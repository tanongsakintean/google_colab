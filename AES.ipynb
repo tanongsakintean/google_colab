{
  "nbformat": 4,
  "nbformat_minor": 0,
  "metadata": {
    "colab": {
      "provenance": [],
      "authorship_tag": "ABX9TyM1FApVCrYTo9f/SwgkhGbV",
      "include_colab_link": true
    },
    "kernelspec": {
      "name": "python3",
      "display_name": "Python 3"
    },
    "language_info": {
      "name": "python"
    }
  },
  "cells": [
    {
      "cell_type": "markdown",
      "metadata": {
        "id": "view-in-github",
        "colab_type": "text"
      },
      "source": [
        "<a href=\"https://colab.research.google.com/github/tanongsakintean/google_colab/blob/main/AES.ipynb\" target=\"_parent\"><img src=\"https://colab.research.google.com/assets/colab-badge.svg\" alt=\"Open In Colab\"/></a>"
      ]
    },
    {
      "cell_type": "code",
      "source": [
        "!pip install pycryptodome"
      ],
      "metadata": {
        "colab": {
          "base_uri": "https://localhost:8080/"
        },
        "id": "k2Pc7VmDj3wj",
        "outputId": "fe762fe3-c025-4ac8-9a99-ab94984f2243"
      },
      "execution_count": 7,
      "outputs": [
        {
          "output_type": "stream",
          "name": "stdout",
          "text": [
            "Collecting pycryptodome\n",
            "  Downloading pycryptodome-3.20.0-cp35-abi3-manylinux_2_17_x86_64.manylinux2014_x86_64.whl (2.1 MB)\n",
            "\u001b[2K     \u001b[90m━━━━━━━━━━━━━━━━━━━━━━━━━━━━━━━━━━━━━━━━\u001b[0m \u001b[32m2.1/2.1 MB\u001b[0m \u001b[31m27.6 MB/s\u001b[0m eta \u001b[36m0:00:00\u001b[0m\n",
            "\u001b[?25hInstalling collected packages: pycryptodome\n",
            "Successfully installed pycryptodome-3.20.0\n"
          ]
        }
      ]
    },
    {
      "cell_type": "code",
      "execution_count": 34,
      "metadata": {
        "id": "tABBB6nsjVup"
      },
      "outputs": [],
      "source": [
        "from Crypto.Cipher import AES\n",
        "import random, string\n",
        "from Crypto.Util.Padding import pad,unpad"
      ]
    },
    {
      "cell_type": "code",
      "source": [
        "key = ''.join([random.choice(string.ascii_uppercase + string.ascii_lowercase + string.digits) for x in range(32)]).encode(\"utf8\")\n",
        "print(key)"
      ],
      "metadata": {
        "colab": {
          "base_uri": "https://localhost:8080/"
        },
        "id": "uE19wwFxjfkE",
        "outputId": "6887a8a2-42c3-45d5-a238-6b522e68bf41"
      },
      "execution_count": 21,
      "outputs": [
        {
          "output_type": "stream",
          "name": "stdout",
          "text": [
            "b'22u3TUb9jBppNmCCCzRftbNeqU7J3QQB'\n"
          ]
        }
      ]
    },
    {
      "cell_type": "code",
      "source": [
        "iv = ''.join(random.choice(string.ascii_uppercase + string.ascii_lowercase + string.digits) for x in range(16)).encode(\"utf8\")\n",
        "print(iv)"
      ],
      "metadata": {
        "colab": {
          "base_uri": "https://localhost:8080/"
        },
        "id": "I3PGliJtkQP9",
        "outputId": "34d17f14-d47e-49b9-fe1b-eca922d485ca"
      },
      "execution_count": 22,
      "outputs": [
        {
          "output_type": "stream",
          "name": "stdout",
          "text": [
            "b'Ww685rGYNpnqFplf'\n"
          ]
        }
      ]
    },
    {
      "cell_type": "code",
      "source": [
        "enc = AES.new(key, AES.MODE_CBC, iv)\n",
        "msg = 'tanongsak'.encode('utf8')\n",
        "padded_msg = pad(msg, AES.block_size)\n",
        "\n",
        "cip = enc.encrypt(padded_msg)\n",
        "cip"
      ],
      "metadata": {
        "colab": {
          "base_uri": "https://localhost:8080/"
        },
        "id": "PBnYzOvgkgMR",
        "outputId": "71d578c2-69ef-47f0-ab59-44c3e6bbe29e"
      },
      "execution_count": 32,
      "outputs": [
        {
          "output_type": "execute_result",
          "data": {
            "text/plain": [
              "b\"='\\x981\\xa2\\x9f\\xacq%\\xdb\\xf3\\x1bJ\\xdb\\x94\\x88\""
            ]
          },
          "metadata": {},
          "execution_count": 32
        }
      ]
    },
    {
      "cell_type": "code",
      "source": [
        "# Create a new AES cipher object for decryption\n",
        "dec = AES.new(key, AES.MODE_CBC, iv)\n",
        "\n",
        "# Decrypt the ciphertext\n",
        "decrypted_msg = dec.decrypt(cip)\n",
        "\n",
        "# Remove the padding\n",
        "original_msg = unpad(decrypted_msg, AES.block_size)\n",
        "\n",
        "# Print the original message\n",
        "print(original_msg.decode('utf8'))"
      ],
      "metadata": {
        "colab": {
          "base_uri": "https://localhost:8080/"
        },
        "id": "tfsiOSCVktyV",
        "outputId": "66a3bfeb-3f20-4eba-fae8-8d048c539592"
      },
      "execution_count": 35,
      "outputs": [
        {
          "output_type": "stream",
          "name": "stdout",
          "text": [
            "tanongsak\n"
          ]
        }
      ]
    }
  ]
}