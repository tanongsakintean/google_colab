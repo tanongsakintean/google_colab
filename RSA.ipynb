{
  "nbformat": 4,
  "nbformat_minor": 0,
  "metadata": {
    "colab": {
      "provenance": [],
      "authorship_tag": "ABX9TyOJB9R2L2Bh0qVB83GkFrrZ",
      "include_colab_link": true
    },
    "kernelspec": {
      "name": "python3",
      "display_name": "Python 3"
    },
    "language_info": {
      "name": "python"
    }
  },
  "cells": [
    {
      "cell_type": "markdown",
      "metadata": {
        "id": "view-in-github",
        "colab_type": "text"
      },
      "source": [
        "<a href=\"https://colab.research.google.com/github/tanongsakintean/google_colab/blob/main/RSA.ipynb\" target=\"_parent\"><img src=\"https://colab.research.google.com/assets/colab-badge.svg\" alt=\"Open In Colab\"/></a>"
      ]
    },
    {
      "cell_type": "code",
      "execution_count": 1,
      "metadata": {
        "colab": {
          "base_uri": "https://localhost:8080/"
        },
        "id": "7HVELc8hrMDS",
        "outputId": "bc0c4ecd-5d2a-480b-d8ef-518155e6cba1"
      },
      "outputs": [
        {
          "output_type": "stream",
          "name": "stdout",
          "text": [
            "Collecting pycryptodome\n",
            "  Downloading pycryptodome-3.20.0-cp35-abi3-manylinux_2_17_x86_64.manylinux2014_x86_64.whl (2.1 MB)\n",
            "\u001b[2K     \u001b[90m━━━━━━━━━━━━━━━━━━━━━━━━━━━━━━━━━━━━━━━━\u001b[0m \u001b[32m2.1/2.1 MB\u001b[0m \u001b[31m6.5 MB/s\u001b[0m eta \u001b[36m0:00:00\u001b[0m\n",
            "\u001b[?25hInstalling collected packages: pycryptodome\n",
            "Successfully installed pycryptodome-3.20.0\n"
          ]
        }
      ],
      "source": [
        "!pip install pycryptodome"
      ]
    },
    {
      "cell_type": "code",
      "source": [
        "from Crypto.PublicKey import RSA\n",
        "from Crypto.Cipher import PKCS1_OAEP"
      ],
      "metadata": {
        "id": "nVw1cEjxrO6x"
      },
      "execution_count": 2,
      "outputs": []
    },
    {
      "cell_type": "code",
      "source": [
        "key = RSA.generate(1024)\n",
        "private_key = key\n",
        "public_key = key.public_key()\n",
        "msg = b'Hello World!'\n",
        "cip = PKCS1_OAEP.new(public_key)\n",
        "enc = cip.encrypt(msg)\n",
        "print(enc)"
      ],
      "metadata": {
        "colab": {
          "base_uri": "https://localhost:8080/"
        },
        "id": "mMW_hkHFreyq",
        "outputId": "1fee0579-76af-4975-c92e-69af1bfcc5e4"
      },
      "execution_count": 3,
      "outputs": [
        {
          "output_type": "stream",
          "name": "stdout",
          "text": [
            "b'\\ru\\xdcHF\\xc7\\xaf\\n\\xb3&\\xf0\\xb7~\\xc7\\xd8oml\\xb4W\\xb5U\\x8c Ob\\xdcK5z\\x89x+;\\xc3\\xdf\\xc0g\\x06\\xa1\\x93\\xa7c+&3\\x9c\\xacN\\xa9\\xf0\\xdd:&sm\\xfe\\x083\\xbe-\\x1d\\xa7\\xa8\\xd6\\x83\\xa8M\\xfb\\xaaW\\x84\\xfe\\xd2\\xf1\\xdbj\\x18\\t\\x8c\\xcc\\xbeD\\x8c\\xe2\\x84\\xd7\\x81(\\xe2O\\xa5\\x8a\\xf7\\xc5z\\xe7z\\x90W\\x8dC\\xff\\tR\\xb96{Z \\xaa\\t\"O\\x08\\x11\\xd8\\xa0\\xbc\\xef\\rB\\xbe\\x1b\\x9cb\\xc2G'\n"
          ]
        }
      ]
    },
    {
      "cell_type": "code",
      "source": [
        "dcip = PKCS1_OAEP.new(private_key)\n",
        "dec = dcip.decrypt(enc)\n",
        "print(dec)"
      ],
      "metadata": {
        "colab": {
          "base_uri": "https://localhost:8080/"
        },
        "id": "FF6MmLHQrx2L",
        "outputId": "7d08e592-0e62-49c0-91a5-29a3e3975a1a"
      },
      "execution_count": 4,
      "outputs": [
        {
          "output_type": "stream",
          "name": "stdout",
          "text": [
            "b'Hello World!'\n"
          ]
        }
      ]
    }
  ]
}