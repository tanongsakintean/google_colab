{
  "nbformat": 4,
  "nbformat_minor": 0,
  "metadata": {
    "colab": {
      "provenance": [],
      "include_colab_link": true
    },
    "kernelspec": {
      "name": "python3",
      "display_name": "Python 3"
    },
    "language_info": {
      "name": "python"
    }
  },
  "cells": [
    {
      "cell_type": "markdown",
      "metadata": {
        "id": "view-in-github",
        "colab_type": "text"
      },
      "source": [
        "<a href=\"https://colab.research.google.com/github/tanongsakintean/google_colab/blob/main/Lab_08_6406021622095.ipynb\" target=\"_parent\"><img src=\"https://colab.research.google.com/assets/colab-badge.svg\" alt=\"Open In Colab\"/></a>"
      ]
    },
    {
      "cell_type": "markdown",
      "metadata": {
        "id": "ocefQLJIUuuk"
      },
      "source": [
        "# **Workshop 8: Data Exploration and Visualization (Numeric Data)**\n",
        "**คำสั่ง**\n",
        "\n",
        "1.   ศึกษาวิธีการสำรวจลักษณะการกระจายของข้อมูลเชิงตัวเลขด้วยค่าสถิติเชิงพรรณนาและการแสดงภาพข้อมูล\n",
        "2.   ทำโจทย์ปฏิบัติการแต่ละข้อตามคำสั่ง\n",
        "3.   ตั้งชื่อไฟล์ python notebook นี้ในรูปแบบ Lab_08_XXXXXXXXXXXXX.ipynb โดย XXXXXXXXXXXXX คือ รหัสนักศึกษา\n",
        "4. ทำการดาวน์โหลดและส่งไฟล์ Lab_08_XXXXXXXXXXXXX.ipynb ที่ Google Classroom"
      ]
    },
    {
      "cell_type": "code",
      "metadata": {
        "id": "paLTi4i6UuAN"
      },
      "source": [
        "import pandas as pd\n",
        "import numpy as np\n",
        "import matplotlib.pyplot as plt\n",
        "from scipy.stats import kurtosis, skew\n",
        "import seaborn as sns\n",
        "from sklearn.cluster import DBSCAN"
      ],
      "execution_count": 17,
      "outputs": []
    },
    {
      "cell_type": "code",
      "metadata": {
        "id": "O6JCM0gjcMvW",
        "colab": {
          "base_uri": "https://localhost:8080/",
          "height": 291
        },
        "outputId": "6f91178d-8026-4b50-8d21-550d913a6d3e"
      },
      "source": [
        "# load breast cancer data\n",
        "from google.colab import drive\n",
        "drive.mount('/content/drive')\n",
        "df = pd.read_csv('/content/drive/MyDrive/csv/breast_cancer_data.csv')\n",
        "df.head()"
      ],
      "execution_count": 4,
      "outputs": [
        {
          "output_type": "stream",
          "name": "stdout",
          "text": [
            "Drive already mounted at /content/drive; to attempt to forcibly remount, call drive.mount(\"/content/drive\", force_remount=True).\n"
          ]
        },
        {
          "output_type": "execute_result",
          "data": {
            "text/plain": [
              "         id diagnosis  radius_mean  texture_mean  perimeter_mean  area_mean  \\\n",
              "0    842302         M        17.99         10.38          122.80     1001.0   \n",
              "1    842517         M        20.57         17.77          132.90     1326.0   \n",
              "2  84300903         M        19.69         21.25          130.00     1203.0   \n",
              "3  84348301         M        11.42         20.38           77.58      386.1   \n",
              "4  84358402         M        20.29         14.34          135.10     1297.0   \n",
              "\n",
              "   smoothness_mean  compactness_mean  concavity_mean  concave points_mean  \\\n",
              "0          0.11840           0.27760          0.3001              0.14710   \n",
              "1          0.08474           0.07864          0.0869              0.07017   \n",
              "2          0.10960           0.15990          0.1974              0.12790   \n",
              "3          0.14250           0.28390          0.2414              0.10520   \n",
              "4          0.10030           0.13280          0.1980              0.10430   \n",
              "\n",
              "   ...  texture_worst  perimeter_worst  area_worst  smoothness_worst  \\\n",
              "0  ...          17.33           184.60      2019.0            0.1622   \n",
              "1  ...          23.41           158.80      1956.0            0.1238   \n",
              "2  ...          25.53           152.50      1709.0            0.1444   \n",
              "3  ...          26.50            98.87       567.7            0.2098   \n",
              "4  ...          16.67           152.20      1575.0            0.1374   \n",
              "\n",
              "   compactness_worst  concavity_worst  concave points_worst  symmetry_worst  \\\n",
              "0             0.6656           0.7119                0.2654          0.4601   \n",
              "1             0.1866           0.2416                0.1860          0.2750   \n",
              "2             0.4245           0.4504                0.2430          0.3613   \n",
              "3             0.8663           0.6869                0.2575          0.6638   \n",
              "4             0.2050           0.4000                0.1625          0.2364   \n",
              "\n",
              "   fractal_dimension_worst  Unnamed: 32  \n",
              "0                  0.11890          NaN  \n",
              "1                  0.08902          NaN  \n",
              "2                  0.08758          NaN  \n",
              "3                  0.17300          NaN  \n",
              "4                  0.07678          NaN  \n",
              "\n",
              "[5 rows x 33 columns]"
            ],
            "text/html": [
              "\n",
              "  <div id=\"df-6b56ebc4-b4c9-4b9e-b757-56cf53e11e9a\" class=\"colab-df-container\">\n",
              "    <div>\n",
              "<style scoped>\n",
              "    .dataframe tbody tr th:only-of-type {\n",
              "        vertical-align: middle;\n",
              "    }\n",
              "\n",
              "    .dataframe tbody tr th {\n",
              "        vertical-align: top;\n",
              "    }\n",
              "\n",
              "    .dataframe thead th {\n",
              "        text-align: right;\n",
              "    }\n",
              "</style>\n",
              "<table border=\"1\" class=\"dataframe\">\n",
              "  <thead>\n",
              "    <tr style=\"text-align: right;\">\n",
              "      <th></th>\n",
              "      <th>id</th>\n",
              "      <th>diagnosis</th>\n",
              "      <th>radius_mean</th>\n",
              "      <th>texture_mean</th>\n",
              "      <th>perimeter_mean</th>\n",
              "      <th>area_mean</th>\n",
              "      <th>smoothness_mean</th>\n",
              "      <th>compactness_mean</th>\n",
              "      <th>concavity_mean</th>\n",
              "      <th>concave points_mean</th>\n",
              "      <th>...</th>\n",
              "      <th>texture_worst</th>\n",
              "      <th>perimeter_worst</th>\n",
              "      <th>area_worst</th>\n",
              "      <th>smoothness_worst</th>\n",
              "      <th>compactness_worst</th>\n",
              "      <th>concavity_worst</th>\n",
              "      <th>concave points_worst</th>\n",
              "      <th>symmetry_worst</th>\n",
              "      <th>fractal_dimension_worst</th>\n",
              "      <th>Unnamed: 32</th>\n",
              "    </tr>\n",
              "  </thead>\n",
              "  <tbody>\n",
              "    <tr>\n",
              "      <th>0</th>\n",
              "      <td>842302</td>\n",
              "      <td>M</td>\n",
              "      <td>17.99</td>\n",
              "      <td>10.38</td>\n",
              "      <td>122.80</td>\n",
              "      <td>1001.0</td>\n",
              "      <td>0.11840</td>\n",
              "      <td>0.27760</td>\n",
              "      <td>0.3001</td>\n",
              "      <td>0.14710</td>\n",
              "      <td>...</td>\n",
              "      <td>17.33</td>\n",
              "      <td>184.60</td>\n",
              "      <td>2019.0</td>\n",
              "      <td>0.1622</td>\n",
              "      <td>0.6656</td>\n",
              "      <td>0.7119</td>\n",
              "      <td>0.2654</td>\n",
              "      <td>0.4601</td>\n",
              "      <td>0.11890</td>\n",
              "      <td>NaN</td>\n",
              "    </tr>\n",
              "    <tr>\n",
              "      <th>1</th>\n",
              "      <td>842517</td>\n",
              "      <td>M</td>\n",
              "      <td>20.57</td>\n",
              "      <td>17.77</td>\n",
              "      <td>132.90</td>\n",
              "      <td>1326.0</td>\n",
              "      <td>0.08474</td>\n",
              "      <td>0.07864</td>\n",
              "      <td>0.0869</td>\n",
              "      <td>0.07017</td>\n",
              "      <td>...</td>\n",
              "      <td>23.41</td>\n",
              "      <td>158.80</td>\n",
              "      <td>1956.0</td>\n",
              "      <td>0.1238</td>\n",
              "      <td>0.1866</td>\n",
              "      <td>0.2416</td>\n",
              "      <td>0.1860</td>\n",
              "      <td>0.2750</td>\n",
              "      <td>0.08902</td>\n",
              "      <td>NaN</td>\n",
              "    </tr>\n",
              "    <tr>\n",
              "      <th>2</th>\n",
              "      <td>84300903</td>\n",
              "      <td>M</td>\n",
              "      <td>19.69</td>\n",
              "      <td>21.25</td>\n",
              "      <td>130.00</td>\n",
              "      <td>1203.0</td>\n",
              "      <td>0.10960</td>\n",
              "      <td>0.15990</td>\n",
              "      <td>0.1974</td>\n",
              "      <td>0.12790</td>\n",
              "      <td>...</td>\n",
              "      <td>25.53</td>\n",
              "      <td>152.50</td>\n",
              "      <td>1709.0</td>\n",
              "      <td>0.1444</td>\n",
              "      <td>0.4245</td>\n",
              "      <td>0.4504</td>\n",
              "      <td>0.2430</td>\n",
              "      <td>0.3613</td>\n",
              "      <td>0.08758</td>\n",
              "      <td>NaN</td>\n",
              "    </tr>\n",
              "    <tr>\n",
              "      <th>3</th>\n",
              "      <td>84348301</td>\n",
              "      <td>M</td>\n",
              "      <td>11.42</td>\n",
              "      <td>20.38</td>\n",
              "      <td>77.58</td>\n",
              "      <td>386.1</td>\n",
              "      <td>0.14250</td>\n",
              "      <td>0.28390</td>\n",
              "      <td>0.2414</td>\n",
              "      <td>0.10520</td>\n",
              "      <td>...</td>\n",
              "      <td>26.50</td>\n",
              "      <td>98.87</td>\n",
              "      <td>567.7</td>\n",
              "      <td>0.2098</td>\n",
              "      <td>0.8663</td>\n",
              "      <td>0.6869</td>\n",
              "      <td>0.2575</td>\n",
              "      <td>0.6638</td>\n",
              "      <td>0.17300</td>\n",
              "      <td>NaN</td>\n",
              "    </tr>\n",
              "    <tr>\n",
              "      <th>4</th>\n",
              "      <td>84358402</td>\n",
              "      <td>M</td>\n",
              "      <td>20.29</td>\n",
              "      <td>14.34</td>\n",
              "      <td>135.10</td>\n",
              "      <td>1297.0</td>\n",
              "      <td>0.10030</td>\n",
              "      <td>0.13280</td>\n",
              "      <td>0.1980</td>\n",
              "      <td>0.10430</td>\n",
              "      <td>...</td>\n",
              "      <td>16.67</td>\n",
              "      <td>152.20</td>\n",
              "      <td>1575.0</td>\n",
              "      <td>0.1374</td>\n",
              "      <td>0.2050</td>\n",
              "      <td>0.4000</td>\n",
              "      <td>0.1625</td>\n",
              "      <td>0.2364</td>\n",
              "      <td>0.07678</td>\n",
              "      <td>NaN</td>\n",
              "    </tr>\n",
              "  </tbody>\n",
              "</table>\n",
              "<p>5 rows × 33 columns</p>\n",
              "</div>\n",
              "    <div class=\"colab-df-buttons\">\n",
              "\n",
              "  <div class=\"colab-df-container\">\n",
              "    <button class=\"colab-df-convert\" onclick=\"convertToInteractive('df-6b56ebc4-b4c9-4b9e-b757-56cf53e11e9a')\"\n",
              "            title=\"Convert this dataframe to an interactive table.\"\n",
              "            style=\"display:none;\">\n",
              "\n",
              "  <svg xmlns=\"http://www.w3.org/2000/svg\" height=\"24px\" viewBox=\"0 -960 960 960\">\n",
              "    <path d=\"M120-120v-720h720v720H120Zm60-500h600v-160H180v160Zm220 220h160v-160H400v160Zm0 220h160v-160H400v160ZM180-400h160v-160H180v160Zm440 0h160v-160H620v160ZM180-180h160v-160H180v160Zm440 0h160v-160H620v160Z\"/>\n",
              "  </svg>\n",
              "    </button>\n",
              "\n",
              "  <style>\n",
              "    .colab-df-container {\n",
              "      display:flex;\n",
              "      gap: 12px;\n",
              "    }\n",
              "\n",
              "    .colab-df-convert {\n",
              "      background-color: #E8F0FE;\n",
              "      border: none;\n",
              "      border-radius: 50%;\n",
              "      cursor: pointer;\n",
              "      display: none;\n",
              "      fill: #1967D2;\n",
              "      height: 32px;\n",
              "      padding: 0 0 0 0;\n",
              "      width: 32px;\n",
              "    }\n",
              "\n",
              "    .colab-df-convert:hover {\n",
              "      background-color: #E2EBFA;\n",
              "      box-shadow: 0px 1px 2px rgba(60, 64, 67, 0.3), 0px 1px 3px 1px rgba(60, 64, 67, 0.15);\n",
              "      fill: #174EA6;\n",
              "    }\n",
              "\n",
              "    .colab-df-buttons div {\n",
              "      margin-bottom: 4px;\n",
              "    }\n",
              "\n",
              "    [theme=dark] .colab-df-convert {\n",
              "      background-color: #3B4455;\n",
              "      fill: #D2E3FC;\n",
              "    }\n",
              "\n",
              "    [theme=dark] .colab-df-convert:hover {\n",
              "      background-color: #434B5C;\n",
              "      box-shadow: 0px 1px 3px 1px rgba(0, 0, 0, 0.15);\n",
              "      filter: drop-shadow(0px 1px 2px rgba(0, 0, 0, 0.3));\n",
              "      fill: #FFFFFF;\n",
              "    }\n",
              "  </style>\n",
              "\n",
              "    <script>\n",
              "      const buttonEl =\n",
              "        document.querySelector('#df-6b56ebc4-b4c9-4b9e-b757-56cf53e11e9a button.colab-df-convert');\n",
              "      buttonEl.style.display =\n",
              "        google.colab.kernel.accessAllowed ? 'block' : 'none';\n",
              "\n",
              "      async function convertToInteractive(key) {\n",
              "        const element = document.querySelector('#df-6b56ebc4-b4c9-4b9e-b757-56cf53e11e9a');\n",
              "        const dataTable =\n",
              "          await google.colab.kernel.invokeFunction('convertToInteractive',\n",
              "                                                    [key], {});\n",
              "        if (!dataTable) return;\n",
              "\n",
              "        const docLinkHtml = 'Like what you see? Visit the ' +\n",
              "          '<a target=\"_blank\" href=https://colab.research.google.com/notebooks/data_table.ipynb>data table notebook</a>'\n",
              "          + ' to learn more about interactive tables.';\n",
              "        element.innerHTML = '';\n",
              "        dataTable['output_type'] = 'display_data';\n",
              "        await google.colab.output.renderOutput(dataTable, element);\n",
              "        const docLink = document.createElement('div');\n",
              "        docLink.innerHTML = docLinkHtml;\n",
              "        element.appendChild(docLink);\n",
              "      }\n",
              "    </script>\n",
              "  </div>\n",
              "\n",
              "\n",
              "<div id=\"df-83b0370b-fcdc-40c3-b3a6-11bec5b576c7\">\n",
              "  <button class=\"colab-df-quickchart\" onclick=\"quickchart('df-83b0370b-fcdc-40c3-b3a6-11bec5b576c7')\"\n",
              "            title=\"Suggest charts\"\n",
              "            style=\"display:none;\">\n",
              "\n",
              "<svg xmlns=\"http://www.w3.org/2000/svg\" height=\"24px\"viewBox=\"0 0 24 24\"\n",
              "     width=\"24px\">\n",
              "    <g>\n",
              "        <path d=\"M19 3H5c-1.1 0-2 .9-2 2v14c0 1.1.9 2 2 2h14c1.1 0 2-.9 2-2V5c0-1.1-.9-2-2-2zM9 17H7v-7h2v7zm4 0h-2V7h2v10zm4 0h-2v-4h2v4z\"/>\n",
              "    </g>\n",
              "</svg>\n",
              "  </button>\n",
              "\n",
              "<style>\n",
              "  .colab-df-quickchart {\n",
              "      --bg-color: #E8F0FE;\n",
              "      --fill-color: #1967D2;\n",
              "      --hover-bg-color: #E2EBFA;\n",
              "      --hover-fill-color: #174EA6;\n",
              "      --disabled-fill-color: #AAA;\n",
              "      --disabled-bg-color: #DDD;\n",
              "  }\n",
              "\n",
              "  [theme=dark] .colab-df-quickchart {\n",
              "      --bg-color: #3B4455;\n",
              "      --fill-color: #D2E3FC;\n",
              "      --hover-bg-color: #434B5C;\n",
              "      --hover-fill-color: #FFFFFF;\n",
              "      --disabled-bg-color: #3B4455;\n",
              "      --disabled-fill-color: #666;\n",
              "  }\n",
              "\n",
              "  .colab-df-quickchart {\n",
              "    background-color: var(--bg-color);\n",
              "    border: none;\n",
              "    border-radius: 50%;\n",
              "    cursor: pointer;\n",
              "    display: none;\n",
              "    fill: var(--fill-color);\n",
              "    height: 32px;\n",
              "    padding: 0;\n",
              "    width: 32px;\n",
              "  }\n",
              "\n",
              "  .colab-df-quickchart:hover {\n",
              "    background-color: var(--hover-bg-color);\n",
              "    box-shadow: 0 1px 2px rgba(60, 64, 67, 0.3), 0 1px 3px 1px rgba(60, 64, 67, 0.15);\n",
              "    fill: var(--button-hover-fill-color);\n",
              "  }\n",
              "\n",
              "  .colab-df-quickchart-complete:disabled,\n",
              "  .colab-df-quickchart-complete:disabled:hover {\n",
              "    background-color: var(--disabled-bg-color);\n",
              "    fill: var(--disabled-fill-color);\n",
              "    box-shadow: none;\n",
              "  }\n",
              "\n",
              "  .colab-df-spinner {\n",
              "    border: 2px solid var(--fill-color);\n",
              "    border-color: transparent;\n",
              "    border-bottom-color: var(--fill-color);\n",
              "    animation:\n",
              "      spin 1s steps(1) infinite;\n",
              "  }\n",
              "\n",
              "  @keyframes spin {\n",
              "    0% {\n",
              "      border-color: transparent;\n",
              "      border-bottom-color: var(--fill-color);\n",
              "      border-left-color: var(--fill-color);\n",
              "    }\n",
              "    20% {\n",
              "      border-color: transparent;\n",
              "      border-left-color: var(--fill-color);\n",
              "      border-top-color: var(--fill-color);\n",
              "    }\n",
              "    30% {\n",
              "      border-color: transparent;\n",
              "      border-left-color: var(--fill-color);\n",
              "      border-top-color: var(--fill-color);\n",
              "      border-right-color: var(--fill-color);\n",
              "    }\n",
              "    40% {\n",
              "      border-color: transparent;\n",
              "      border-right-color: var(--fill-color);\n",
              "      border-top-color: var(--fill-color);\n",
              "    }\n",
              "    60% {\n",
              "      border-color: transparent;\n",
              "      border-right-color: var(--fill-color);\n",
              "    }\n",
              "    80% {\n",
              "      border-color: transparent;\n",
              "      border-right-color: var(--fill-color);\n",
              "      border-bottom-color: var(--fill-color);\n",
              "    }\n",
              "    90% {\n",
              "      border-color: transparent;\n",
              "      border-bottom-color: var(--fill-color);\n",
              "    }\n",
              "  }\n",
              "</style>\n",
              "\n",
              "  <script>\n",
              "    async function quickchart(key) {\n",
              "      const quickchartButtonEl =\n",
              "        document.querySelector('#' + key + ' button');\n",
              "      quickchartButtonEl.disabled = true;  // To prevent multiple clicks.\n",
              "      quickchartButtonEl.classList.add('colab-df-spinner');\n",
              "      try {\n",
              "        const charts = await google.colab.kernel.invokeFunction(\n",
              "            'suggestCharts', [key], {});\n",
              "      } catch (error) {\n",
              "        console.error('Error during call to suggestCharts:', error);\n",
              "      }\n",
              "      quickchartButtonEl.classList.remove('colab-df-spinner');\n",
              "      quickchartButtonEl.classList.add('colab-df-quickchart-complete');\n",
              "    }\n",
              "    (() => {\n",
              "      let quickchartButtonEl =\n",
              "        document.querySelector('#df-83b0370b-fcdc-40c3-b3a6-11bec5b576c7 button');\n",
              "      quickchartButtonEl.style.display =\n",
              "        google.colab.kernel.accessAllowed ? 'block' : 'none';\n",
              "    })();\n",
              "  </script>\n",
              "</div>\n",
              "\n",
              "    </div>\n",
              "  </div>\n"
            ],
            "application/vnd.google.colaboratory.intrinsic+json": {
              "type": "dataframe",
              "variable_name": "df"
            }
          },
          "metadata": {},
          "execution_count": 4
        }
      ]
    },
    {
      "cell_type": "markdown",
      "metadata": {
        "id": "CP8piIapNAxX"
      },
      "source": [
        "**Describe the distribution shape using descriptive statistice**"
      ]
    },
    {
      "cell_type": "code",
      "metadata": {
        "id": "gZ04YYWpY-uj",
        "colab": {
          "base_uri": "https://localhost:8080/"
        },
        "outputId": "9081f0d1-d3a4-4fbd-dee2-ffb3d1a9613c"
      },
      "source": [
        "print('Mean of radius_mean =',df['radius_mean'].mean())\n",
        "print('Median of radius_mean =',df['radius_mean'].median())\n",
        "print('Mode of radius_mean:',)\n",
        "mode_radius_mean = df['radius_mean'].mode()\n",
        "for mode in mode_radius_mean:\n",
        "  print(mode)\n",
        "print('SD of radius_mean =',df['radius_mean'].std())\n",
        "print('Variance of radius_mean =',df['radius_mean'].var())\n",
        "print('Kurtosis of radius_mean =',df['radius_mean'].kurt())\n",
        "print('Excess kurtosis of radius_mean =',df['radius_mean'].kurt()-3)\n",
        "print('Skewness of radius_mean =',df['radius_mean'].skew())\n",
        "IQR_radius_mean = df['radius_mean'].quantile(0.75)-df['radius_mean'].quantile(0.25)\n",
        "LL_radius_mean = df['radius_mean'].quantile(0.25)-1.5*IQR_radius_mean\n",
        "UL_radius_mean = df['radius_mean'].quantile(0.75)+1.5*IQR_radius_mean\n",
        "print('IQR of radius_mean =',IQR_radius_mean)\n",
        "print('Lower limit of radius_mean =',LL_radius_mean)\n",
        "print('Upper limit of radius_mean =',UL_radius_mean)"
      ],
      "execution_count": 5,
      "outputs": [
        {
          "output_type": "stream",
          "name": "stdout",
          "text": [
            "Mean of radius_mean = 14.127291739894552\n",
            "Median of radius_mean = 13.37\n",
            "Mode of radius_mean:\n",
            "12.34\n",
            "SD of radius_mean = 3.5240488262120775\n",
            "Variance of radius_mean = 12.418920129526722\n",
            "Kurtosis of radius_mean = 0.8455216229065377\n",
            "Excess kurtosis of radius_mean = -2.1544783770934623\n",
            "Skewness of radius_mean = 0.9423795716730992\n",
            "IQR of radius_mean = 4.08\n",
            "Lower limit of radius_mean = 5.579999999999999\n",
            "Upper limit of radius_mean = 21.9\n"
          ]
        }
      ]
    },
    {
      "cell_type": "markdown",
      "metadata": {
        "id": "iIqVNkWjKCSA"
      },
      "source": [
        "ปฏิบัติการข้อ 1) จงอธิบายลักษณะการกระจายของค่าตัวแปร area_mean ด้วยค่าสถิติเชิงพรรณนา"
      ]
    },
    {
      "cell_type": "code",
      "metadata": {
        "id": "ojJzJsJkMhXG",
        "colab": {
          "base_uri": "https://localhost:8080/"
        },
        "outputId": "37d8aeb0-b220-4fe6-d31e-4a5978379286"
      },
      "source": [
        "# Answer here!\n",
        "print('Mean of area_mean =',df['area_mean'].mean())\n",
        "print('Median of area_mean =',df['area_mean'].median())\n",
        "print('Mode of area_mean:',)\n",
        "mode_area_mean = df['area_mean'].mode()\n",
        "for mode in mode_area_mean:\n",
        "  print(mode)\n",
        "print('SD of area_mean =',df['area_mean'].std())\n",
        "print('Variance of area_mean =',df['area_mean'].var())\n",
        "print('Kurtosis of area_mean =',df['area_mean'].kurt())\n",
        "print('Excess kurtosis of area_mean =',df['area_mean'].kurt()-3)\n",
        "print('Skewness of area_mean =',df['area_mean'].skew())\n",
        "IQR_area_mean = df['area_mean'].quantile(0.75)-df['area_mean'].quantile(0.25)\n",
        "LL_area_mean = df['area_mean'].quantile(0.25)-1.5*IQR_area_mean\n",
        "UL_area_mean = df['area_mean'].quantile(0.75)+1.5*IQR_area_mean\n",
        "print('IQR of area_mean =',IQR_area_mean)\n",
        "print('Lower limit of area_mean =',LL_area_mean)\n",
        "print('Upper limit of area_mean =',UL_area_mean)"
      ],
      "execution_count": 9,
      "outputs": [
        {
          "output_type": "stream",
          "name": "stdout",
          "text": [
            "Mean of area_mean = 654.8891036906855\n",
            "Median of area_mean = 551.1\n",
            "Mode of area_mean:\n",
            "512.2\n",
            "SD of area_mean = 351.914129181653\n",
            "Variance of area_mean = 123843.55431768115\n",
            "Kurtosis of area_mean = 3.6523027623507582\n",
            "Excess kurtosis of area_mean = 0.6523027623507582\n",
            "Skewness of area_mean = 1.6457321756240424\n",
            "IQR of area_mean = 362.40000000000003\n",
            "Lower limit of area_mean = -123.30000000000001\n",
            "Upper limit of area_mean = 1326.3000000000002\n"
          ]
        }
      ]
    },
    {
      "cell_type": "markdown",
      "metadata": {
        "id": "k06GHB-IMLof"
      },
      "source": [
        "ปฏิบัติการข้อ 2) จงเขียนฟังก์ชันเพื่อตรวจหาค่าผิดปรกติของค่าตัวแปรหนึ่งๆ"
      ]
    },
    {
      "cell_type": "code",
      "metadata": {
        "id": "l2-v5yOjMK6M"
      },
      "source": [
        "# Answer here!\n",
        "def find_outliers_iqr(data, variable):\n",
        "  Q1 = data[variable].quantile(0.25)\n",
        "  Q3 = data[variable].quantile(0.75)\n",
        "  IQR = Q3 - Q1\n",
        "  lower_bound = Q1 - 1.5 * IQR\n",
        "  upper_bound = Q3 + 1.5 * IQR\n",
        "  outliers = data[(data[variable] < lower_bound) | (data[variable] > upper_bound)]\n",
        "  return outliers[variable]"
      ],
      "execution_count": 30,
      "outputs": []
    },
    {
      "cell_type": "markdown",
      "metadata": {
        "id": "SqGYxQUaMAQR"
      },
      "source": [
        "ปฏิบัติการข้อ 3) จงเรียกใช้ฟังก์ในข้อ 2 เพื่อตรวจหาค่าของตัวแปร radius_mean ที่อาจเป็นข้อมูลผิดปรกติ"
      ]
    },
    {
      "cell_type": "code",
      "metadata": {
        "id": "yGyReTviZUy6",
        "colab": {
          "base_uri": "https://localhost:8080/"
        },
        "outputId": "8e830a01-96e5-45a7-f443-337c1c5e5bd8"
      },
      "source": [
        "# Answer here!\n",
        "outliers = find_outliers_iqr(df, 'radius_mean')\n",
        "print(outliers)"
      ],
      "execution_count": 31,
      "outputs": [
        {
          "output_type": "stream",
          "name": "stdout",
          "text": [
            "82     25.22\n",
            "108    22.27\n",
            "122    24.25\n",
            "164    23.27\n",
            "180    27.22\n",
            "202    23.29\n",
            "212    28.11\n",
            "236    23.21\n",
            "339    23.51\n",
            "352    25.73\n",
            "369    22.01\n",
            "461    27.42\n",
            "503    23.09\n",
            "521    24.63\n",
            "Name: radius_mean, dtype: float64\n"
          ]
        }
      ]
    },
    {
      "cell_type": "markdown",
      "metadata": {
        "id": "J-tKzQq-LD89"
      },
      "source": [
        "ปฏิบัติการข้อ 4) จงเขียนฟังก์ชันเพื่อระบุลักษณะการกระจายของค่าตัวแปรว่ามีการแจกแจงค่าตัวแปรแบบใด"
      ]
    },
    {
      "cell_type": "code",
      "metadata": {
        "id": "uadHSDecLDYY"
      },
      "source": [
        "# Answer here!\n",
        "def identify_distribution(data, variable):\n",
        "\n",
        "  skewness = skew(data[variable])\n",
        "  kurt = kurtosis(data[variable])\n",
        "\n",
        "  if -0.5 <= skewness <= 0.5 and -2 <= kurt <= 2:\n",
        "    return \"การกระจายมีแนวโน้มเป็นแบบปกติ\"\n",
        "  elif skewness > 0.5 and kurt > 2:\n",
        "    return \"การกระจายมีแนวโน้มเบ้ขวาและ leptokurtic\"\n",
        "  elif skewness < -0.5 and kurt > 2:\n",
        "    return \"การกระจายมีแนวโน้มเบ้ซ้ายและ leptokurtic\"\n",
        "  elif skewness > 0.5 and kurt < -2:\n",
        "    return \"การกระจายมีแนวโน้มเบ้ขวาและ platykurtic\"\n",
        "  elif skewness < -0.5 and kurt < -2:\n",
        "    return \"การกระจายมีแนวโน้มเบ้ซ้ายและ platykurtic\"\n",
        "  else:\n",
        "    return \"ไม่สามารถจำแนกการกระจายได้อย่างง่ายดาย\""
      ],
      "execution_count": 34,
      "outputs": []
    },
    {
      "cell_type": "markdown",
      "metadata": {
        "id": "LyxP3KhcLT77"
      },
      "source": [
        "ปฏิบัติการข้อ 5) จงเรียกใช้ฟังก์ชันในข้อ 3 เพื่อระบุลักษณะการกระจายของค่าตัวแปร compactness_mean"
      ]
    },
    {
      "cell_type": "code",
      "metadata": {
        "id": "q1ainSc3LfBM",
        "colab": {
          "base_uri": "https://localhost:8080/"
        },
        "outputId": "6a19f757-2260-4505-d1dc-7988df7731ff"
      },
      "source": [
        "# Answer here!\n",
        "distribution_type = identify_distribution(df, 'compactness_mean')\n",
        "print(distribution_type)"
      ],
      "execution_count": 35,
      "outputs": [
        {
          "output_type": "stream",
          "name": "stdout",
          "text": [
            "ไม่สามารถจำแนกการกระจายได้อย่างง่ายดาย\n"
          ]
        }
      ]
    },
    {
      "cell_type": "markdown",
      "metadata": {
        "id": "dfAk9uAENNzr"
      },
      "source": [
        "**Describe the shape of distribution by data visualizing**"
      ]
    },
    {
      "cell_type": "code",
      "metadata": {
        "id": "iKipo3J1Leuo",
        "colab": {
          "base_uri": "https://localhost:8080/",
          "height": 468
        },
        "outputId": "c9d5d639-a35b-48d6-f882-500816b0d33b"
      },
      "source": [
        "# Histogram\n",
        "n = df.shape[0]   # number of samples\n",
        "h = 2*IQR_radius_mean*(n**(-1/3))   # estimate binwidth using Freedman-Diaconis rule\n",
        "\n",
        "sns.histplot(data=df, x=\"radius_mean\", binwidth=h)"
      ],
      "execution_count": 10,
      "outputs": [
        {
          "output_type": "execute_result",
          "data": {
            "text/plain": [
              "<Axes: xlabel='radius_mean', ylabel='Count'>"
            ]
          },
          "metadata": {},
          "execution_count": 10
        },
        {
          "output_type": "display_data",
          "data": {
            "text/plain": [
              "<Figure size 640x480 with 1 Axes>"
            ],
            "image/png": "[encoded data removed]"
          },
          "metadata": {}
        }
      ]
    },
    {
      "cell_type": "code",
      "metadata": {
        "id": "GUBc8qmLPpnc",
        "colab": {
          "base_uri": "https://localhost:8080/",
          "height": 524
        },
        "outputId": "6c8cee60-e7c1-425e-cbf7-bdcc8215bfc6"
      },
      "source": [
        "# Density plot\n",
        "bw = 0.786*IQR_radius_mean*(n**(-1/5))\n",
        "sns.displot(data=df, x=\"radius_mean\", kind=\"kde\", bw_adjust=bw)"
      ],
      "execution_count": 11,
      "outputs": [
        {
          "output_type": "execute_result",
          "data": {
            "text/plain": [
              "<seaborn.axisgrid.FacetGrid at 0x7ad0ecadf5e0>"
            ]
          },
          "metadata": {},
          "execution_count": 11
        },
        {
          "output_type": "display_data",
          "data": {
            "text/plain": [
              "<Figure size 500x500 with 1 Axes>"
            ],
            "image/png": "[encoded data removed]"
          },
          "metadata": {}
        }
      ]
    },
    {
      "cell_type": "code",
      "metadata": {
        "id": "bXFCWRLlRG2r",
        "colab": {
          "base_uri": "https://localhost:8080/",
          "height": 468
        },
        "outputId": "6279f8b7-6db3-428d-8b56-27e61eb6160d"
      },
      "source": [
        "# Histogram with conditioning on other variables\n",
        "n = df.shape[0]   # number of samples\n",
        "h = 2*IQR_radius_mean*(n**(-1/3))   # estimate binwidth using Freedman-Diaconis rule\n",
        "\n",
        "sns.histplot(data=df, x=\"radius_mean\",  hue=\"diagnosis\", binwidth=h)"
      ],
      "execution_count": 12,
      "outputs": [
        {
          "output_type": "execute_result",
          "data": {
            "text/plain": [
              "<Axes: xlabel='radius_mean', ylabel='Count'>"
            ]
          },
          "metadata": {},
          "execution_count": 12
        },
        {
          "output_type": "display_data",
          "data": {
            "text/plain": [
              "<Figure size 640x480 with 1 Axes>"
            ],
            "image/png": "[encoded data removed]"
          },
          "metadata": {}
        }
      ]
    },
    {
      "cell_type": "code",
      "metadata": {
        "id": "Ar8KhPcTSqtI",
        "colab": {
          "base_uri": "https://localhost:8080/",
          "height": 429
        },
        "outputId": "b63b1bd5-a954-4272-f06f-88dbd87deea7"
      },
      "source": [
        "# Boxplot\n",
        "sns.boxplot(data=df, y=\"radius_mean\")"
      ],
      "execution_count": 13,
      "outputs": [
        {
          "output_type": "execute_result",
          "data": {
            "text/plain": [
              "<Axes: ylabel='radius_mean'>"
            ]
          },
          "metadata": {},
          "execution_count": 13
        },
        {
          "output_type": "display_data",
          "data": {
            "text/plain": [
              "<Figure size 640x480 with 1 Axes>"
            ],
            "image/png": "[encoded data removed]"
          },
          "metadata": {}
        }
      ]
    },
    {
      "cell_type": "code",
      "metadata": {
        "id": "l2WpPKodTU-y",
        "colab": {
          "base_uri": "https://localhost:8080/",
          "height": 467
        },
        "outputId": "c2acfa6d-f636-4ecb-d38a-80449ef0738f"
      },
      "source": [
        "#compare the distributions of a variable for each category\n",
        "sns.boxplot(data=df, x=\"diagnosis\",y='radius_mean')"
      ],
      "execution_count": 14,
      "outputs": [
        {
          "output_type": "execute_result",
          "data": {
            "text/plain": [
              "<Axes: xlabel='diagnosis', ylabel='radius_mean'>"
            ]
          },
          "metadata": {},
          "execution_count": 14
        },
        {
          "output_type": "display_data",
          "data": {
            "text/plain": [
              "<Figure size 640x480 with 1 Axes>"
            ],
            "image/png": "[encoded data removed]"
          },
          "metadata": {}
        }
      ]
    },
    {
      "cell_type": "code",
      "metadata": {
        "id": "ru0_yxZpTy9y",
        "colab": {
          "base_uri": "https://localhost:8080/",
          "height": 467
        },
        "outputId": "34d61661-c039-438e-c8c6-38bfc1305580"
      },
      "source": [
        "# Violin Plot\n",
        "sns.violinplot(data=df, x=\"diagnosis\",y='radius_mean')"
      ],
      "execution_count": 15,
      "outputs": [
        {
          "output_type": "execute_result",
          "data": {
            "text/plain": [
              "<Axes: xlabel='diagnosis', ylabel='radius_mean'>"
            ]
          },
          "metadata": {},
          "execution_count": 15
        },
        {
          "output_type": "display_data",
          "data": {
            "text/plain": [
              "<Figure size 640x480 with 1 Axes>"
            ],
            "image/png": "[encoded data removed]"
          },
          "metadata": {}
        }
      ]
    },
    {
      "cell_type": "markdown",
      "metadata": {
        "id": "2FfPmirCUJNz"
      },
      "source": [
        "ปฏิบัติการข้อ 6) จงสร้างภาพนำเสนอการกระจายของค่าข้อมูลตัวแปร area_mean"
      ]
    },
    {
      "cell_type": "code",
      "metadata": {
        "id": "l2Vt5-T8UI3H",
        "colab": {
          "base_uri": "https://localhost:8080/",
          "height": 467
        },
        "outputId": "292d86e1-8c1f-497c-b7e9-68b81cba8587"
      },
      "source": [
        "# Answer here!\n",
        "sns.kdeplot(data=df, x='area_mean')"
      ],
      "execution_count": 36,
      "outputs": [
        {
          "output_type": "execute_result",
          "data": {
            "text/plain": [
              "<Axes: xlabel='area_mean', ylabel='Density'>"
            ]
          },
          "metadata": {},
          "execution_count": 36
        },
        {
          "output_type": "display_data",
          "data": {
            "text/plain": [
              "<Figure size 640x480 with 1 Axes>"
            ],
            "image/png": "[encoded data removed]"
          },
          "metadata": {}
        }
      ]
    },
    {
      "cell_type": "markdown",
      "metadata": {
        "id": "1ql-5UVxU7BC"
      },
      "source": [
        "ปฏิบัติการข้อ 7) การกระจายของค่าตัวแปร area_mean ในผู้ป่วยที่เป็นโรคมะเร็งเต้านม และผู้ป่วยที่ไม่ได้เป็นโรคมะเร็งเต้านม มีความแตกต่างกันหรือไม่"
      ]
    },
    {
      "cell_type": "code",
      "metadata": {
        "id": "x8fPUFOUU6Qe",
        "colab": {
          "base_uri": "https://localhost:8080/",
          "height": 467
        },
        "outputId": "92a887b6-2407-43e9-9fa3-66a6d265c610"
      },
      "source": [
        "# Answer here!\n",
        "sns.violinplot(data=df, x='diagnosis', y='area_mean')"
      ],
      "execution_count": 42,
      "outputs": [
        {
          "output_type": "execute_result",
          "data": {
            "text/plain": [
              "<Axes: xlabel='diagnosis', ylabel='area_mean'>"
            ]
          },
          "metadata": {},
          "execution_count": 42
        },
        {
          "output_type": "display_data",
          "data": {
            "text/plain": [
              "<Figure size 640x480 with 1 Axes>"
            ],
            "image/png": "[encoded data removed]"
          },
          "metadata": {}
        }
      ]
    },
    {
      "cell_type": "markdown",
      "metadata": {
        "id": "Bqfg8cZ6VeHv"
      },
      "source": [
        "ปฏิบัติการข้อ 8) จงเขียนฟังก์ชันแสดงค่าผิดปรกติของค่าตัวแปรหนึ่ง (var1) ในแต่ละกลุ่มข้อมูลที่แบ่งแยกด้วยค่าแปรเชิงกลุ่มอีกตัวแปรหนึ่ง (var2)"
      ]
    },
    {
      "cell_type": "code",
      "metadata": {
        "id": "S1HbbBFRW_NU",
        "colab": {
          "base_uri": "https://localhost:8080/"
        },
        "outputId": "6eb8277d-f730-49b8-d5b3-1e30f4a0446d"
      },
      "source": [
        "def display_outliers(data, var1, var2):\n",
        "\n",
        "  for group in data[var2].unique():\n",
        "    group_data = data[data[var2] == group]\n",
        "    Q1 = group_data[var1].quantile(0.25)\n",
        "    Q3 = group_data[var1].quantile(0.75)\n",
        "    IQR = Q3 - Q1\n",
        "    lower_bound = Q1 - 1.5 * IQR\n",
        "    upper_bound = Q3 + 1.5 * IQR\n",
        "    outliers = group_data[(group_data[var1] < lower_bound) | (group_data[var1] > upper_bound)]\n",
        "\n",
        "    if not outliers.empty:\n",
        "      print(f\"Outliers in {var1} for group {var2} = {group}:\")\n",
        "      print(outliers)\n",
        "\n",
        "display_outliers(df, 'compactness_mean', 'diagnosis')"
      ],
      "execution_count": 45,
      "outputs": [
        {
          "output_type": "stream",
          "name": "stdout",
          "text": [
            "Outliers in compactness_mean for group diagnosis = M:\n",
            "           id diagnosis  radius_mean  texture_mean  perimeter_mean  area_mean  \\\n",
            "0      842302         M        17.99         10.38          122.80     1001.0   \n",
            "3    84348301         M        11.42         20.38           77.58      386.1   \n",
            "78    8610862         M        20.18         23.97          143.70     1245.0   \n",
            "108     86355         M        22.27         19.67          152.80     1509.0   \n",
            "122    865423         M        24.25         20.20          166.20     1761.0   \n",
            "181    873593         M        21.09         26.57          142.70     1311.0   \n",
            "258    887181         M        15.66         23.20          110.20      773.5   \n",
            "567    927241         M        20.60         29.33          140.10     1265.0   \n",
            "\n",
            "     smoothness_mean  compactness_mean  concavity_mean  concave points_mean  \\\n",
            "0             0.1184            0.2776          0.3001               0.1471   \n",
            "3             0.1425            0.2839          0.2414               0.1052   \n",
            "78            0.1286            0.3454          0.3754               0.1604   \n",
            "108           0.1326            0.2768          0.4264               0.1823   \n",
            "122           0.1447            0.2867          0.4268               0.2012   \n",
            "181           0.1141            0.2832          0.2487               0.1496   \n",
            "258           0.1109            0.3114          0.3176               0.1377   \n",
            "567           0.1178            0.2770          0.3514               0.1520   \n",
            "\n",
            "     ...  texture_worst  perimeter_worst  area_worst  smoothness_worst  \\\n",
            "0    ...          17.33           184.60      2019.0            0.1622   \n",
            "3    ...          26.50            98.87       567.7            0.2098   \n",
            "78   ...          31.72           170.30      1623.0            0.1639   \n",
            "108  ...          28.01           206.80      2360.0            0.1701   \n",
            "122  ...          23.99           180.90      2073.0            0.1696   \n",
            "181  ...          33.48           176.50      2089.0            0.1491   \n",
            "258  ...          31.64           143.70      1226.0            0.1504   \n",
            "567  ...          39.42           184.60      1821.0            0.1650   \n",
            "\n",
            "     compactness_worst  concavity_worst  concave points_worst  symmetry_worst  \\\n",
            "0               0.6656           0.7119                0.2654          0.4601   \n",
            "3               0.8663           0.6869                0.2575          0.6638   \n",
            "78              0.6164           0.7681                0.2508          0.5440   \n",
            "108             0.6997           0.9608                0.2910          0.4055   \n",
            "122             0.4244           0.5803                0.2248          0.3222   \n",
            "181             0.7584           0.6780                0.2903          0.4098   \n",
            "258             0.5172           0.6181                0.2462          0.3277   \n",
            "567             0.8681           0.9387                0.2650          0.4087   \n",
            "\n",
            "     fractal_dimension_worst  Unnamed: 32  \n",
            "0                    0.11890          NaN  \n",
            "3                    0.17300          NaN  \n",
            "78                   0.09964          NaN  \n",
            "108                  0.09789          NaN  \n",
            "122                  0.08009          NaN  \n",
            "181                  0.12840          NaN  \n",
            "258                  0.10190          NaN  \n",
            "567                  0.12400          NaN  \n",
            "\n",
            "[8 rows x 33 columns]\n",
            "Outliers in compactness_mean for group diagnosis = B:\n",
            "           id diagnosis  radius_mean  texture_mean  perimeter_mean  area_mean  \\\n",
            "112     86409         B       14.260         19.65           97.83      629.9   \n",
            "128    866458         B       15.100         16.39           99.58      674.5   \n",
            "290  89143602         B       14.410         19.73           96.03      651.0   \n",
            "318    894329         B        9.042         18.90           60.07      244.5   \n",
            "376    901315         B       10.570         20.22           70.15      338.3   \n",
            "421    906564         B       14.690         13.98           98.22      656.1   \n",
            "504    915186         B        9.268         12.87           61.49      248.7   \n",
            "505    915276         B        9.676         13.14           64.12      272.5   \n",
            "518    917062         B       12.880         18.22           84.45      493.1   \n",
            "\n",
            "     smoothness_mean  compactness_mean  concavity_mean  concave points_mean  \\\n",
            "112          0.07837            0.2233         0.30030              0.07798   \n",
            "128          0.11500            0.1807         0.11380              0.08534   \n",
            "290          0.08757            0.1676         0.13620              0.06602   \n",
            "318          0.09968            0.1972         0.19750              0.04908   \n",
            "376          0.09073            0.1660         0.22800              0.05941   \n",
            "421          0.10310            0.1836         0.14500              0.06300   \n",
            "504          0.16340            0.2239         0.09730              0.05252   \n",
            "505          0.12550            0.2204         0.11880              0.07038   \n",
            "518          0.12180            0.1661         0.04825              0.05303   \n",
            "\n",
            "     ...  texture_worst  perimeter_worst  area_worst  smoothness_worst  \\\n",
            "112  ...          23.73           107.00       709.0           0.08949   \n",
            "128  ...          18.33           105.90       762.6           0.13860   \n",
            "290  ...          22.13           101.70       767.3           0.09983   \n",
            "318  ...          23.40            68.62       297.1           0.12210   \n",
            "376  ...          22.82            76.51       351.9           0.11430   \n",
            "421  ...          18.34           114.10       809.2           0.13120   \n",
            "504  ...          16.38            69.05       300.2           0.19020   \n",
            "505  ...          18.04            69.47       328.1           0.20060   \n",
            "518  ...          24.37            99.31       674.7           0.14560   \n",
            "\n",
            "     compactness_worst  concavity_worst  concave points_worst  symmetry_worst  \\\n",
            "112             0.4193           0.6783                0.1505          0.2398   \n",
            "128             0.2883           0.1960                0.1423          0.2590   \n",
            "290             0.2472           0.2220                0.1021          0.2272   \n",
            "318             0.3748           0.4609                0.1145          0.3135   \n",
            "376             0.3619           0.6030                0.1465          0.2597   \n",
            "421             0.3635           0.3219                0.1108          0.2827   \n",
            "504             0.3441           0.2099                0.1025          0.3038   \n",
            "505             0.3663           0.2913                0.1075          0.2848   \n",
            "518             0.2961           0.1246                0.1096          0.2582   \n",
            "\n",
            "     fractal_dimension_worst  Unnamed: 32  \n",
            "112                  0.10820          NaN  \n",
            "128                  0.07779          NaN  \n",
            "290                  0.08799          NaN  \n",
            "318                  0.10550          NaN  \n",
            "376                  0.12000          NaN  \n",
            "421                  0.09208          NaN  \n",
            "504                  0.12520          NaN  \n",
            "505                  0.13640          NaN  \n",
            "518                  0.08893          NaN  \n",
            "\n",
            "[9 rows x 33 columns]\n"
          ]
        }
      ]
    },
    {
      "cell_type": "markdown",
      "metadata": {
        "id": "BapxP5a5XnoO"
      },
      "source": [
        "ปฏิบัติการข้อ 9) จงปรับปรุงฟังก์ชันในข้อ 8 ให้สามารถส่งข้อมูล (index ของข้อมูล) ที่มีค่าผิดปรกติกลับเป็นข้อมูลออก"
      ]
    },
    {
      "cell_type": "code",
      "metadata": {
        "id": "ZBbLG6ahYCI4"
      },
      "source": [
        "def detect_display_outliers(data, var1, var2):\n",
        "  outliers = []\n",
        "  for group in data[var2].unique():\n",
        "    group_data = data[data[var2] == group]\n",
        "    Q1 = group_data[var1].quantile(0.25)\n",
        "    Q3 = group_data[var1].quantile(0.75)\n",
        "    IQR = Q3 - Q1\n",
        "    lower_bound = Q1 - 1.5 * IQR\n",
        "    upper_bound = Q3 + 1.5 * IQR\n",
        "    group_outliers = group_data[(group_data[var1] < lower_bound) | (group_data[var1] > upper_bound)]\n",
        "\n",
        "    if not group_outliers.empty:\n",
        "      print(f\"Outliers in {var1} for group {var2} = {group}:\")\n",
        "      print(group_outliers)\n",
        "      outliers.extend(group_outliers.index.tolist())\n",
        "      return outliers"
      ],
      "execution_count": 50,
      "outputs": []
    },
    {
      "cell_type": "markdown",
      "metadata": {
        "id": "CGcwbL4qYKyU"
      },
      "source": [
        "ปฏิบัติการข้อ 10) จงเรียกใช้ฟังก์ชันในข้อ 9 เพื่อตรวจหาค่าของตัวแปร compactness_mean ที่อาจเป็นข้อมูลผิดปรกติในแต่ละกลุ่มตามค่าตัวแปร diagnosis"
      ]
    },
    {
      "cell_type": "code",
      "metadata": {
        "id": "_zD0aKppYl_3",
        "colab": {
          "base_uri": "https://localhost:8080/"
        },
        "outputId": "d0e36c14-8097-49fa-b4cc-b09873cef7a5"
      },
      "source": [
        "# Answer here!\n",
        "outlier_indices = detect_display_outliers(df, 'compactness_mean', 'diagnosis')\n",
        "print(f\"\\nOutlier indices: {outlier_indices}\")"
      ],
      "execution_count": 51,
      "outputs": [
        {
          "output_type": "stream",
          "name": "stdout",
          "text": [
            "Outliers in compactness_mean for group diagnosis = M:\n",
            "           id diagnosis  radius_mean  texture_mean  perimeter_mean  area_mean  \\\n",
            "0      842302         M        17.99         10.38          122.80     1001.0   \n",
            "3    84348301         M        11.42         20.38           77.58      386.1   \n",
            "78    8610862         M        20.18         23.97          143.70     1245.0   \n",
            "108     86355         M        22.27         19.67          152.80     1509.0   \n",
            "122    865423         M        24.25         20.20          166.20     1761.0   \n",
            "181    873593         M        21.09         26.57          142.70     1311.0   \n",
            "258    887181         M        15.66         23.20          110.20      773.5   \n",
            "567    927241         M        20.60         29.33          140.10     1265.0   \n",
            "\n",
            "     smoothness_mean  compactness_mean  concavity_mean  concave points_mean  \\\n",
            "0             0.1184            0.2776          0.3001               0.1471   \n",
            "3             0.1425            0.2839          0.2414               0.1052   \n",
            "78            0.1286            0.3454          0.3754               0.1604   \n",
            "108           0.1326            0.2768          0.4264               0.1823   \n",
            "122           0.1447            0.2867          0.4268               0.2012   \n",
            "181           0.1141            0.2832          0.2487               0.1496   \n",
            "258           0.1109            0.3114          0.3176               0.1377   \n",
            "567           0.1178            0.2770          0.3514               0.1520   \n",
            "\n",
            "     ...  texture_worst  perimeter_worst  area_worst  smoothness_worst  \\\n",
            "0    ...          17.33           184.60      2019.0            0.1622   \n",
            "3    ...          26.50            98.87       567.7            0.2098   \n",
            "78   ...          31.72           170.30      1623.0            0.1639   \n",
            "108  ...          28.01           206.80      2360.0            0.1701   \n",
            "122  ...          23.99           180.90      2073.0            0.1696   \n",
            "181  ...          33.48           176.50      2089.0            0.1491   \n",
            "258  ...          31.64           143.70      1226.0            0.1504   \n",
            "567  ...          39.42           184.60      1821.0            0.1650   \n",
            "\n",
            "     compactness_worst  concavity_worst  concave points_worst  symmetry_worst  \\\n",
            "0               0.6656           0.7119                0.2654          0.4601   \n",
            "3               0.8663           0.6869                0.2575          0.6638   \n",
            "78              0.6164           0.7681                0.2508          0.5440   \n",
            "108             0.6997           0.9608                0.2910          0.4055   \n",
            "122             0.4244           0.5803                0.2248          0.3222   \n",
            "181             0.7584           0.6780                0.2903          0.4098   \n",
            "258             0.5172           0.6181                0.2462          0.3277   \n",
            "567             0.8681           0.9387                0.2650          0.4087   \n",
            "\n",
            "     fractal_dimension_worst  Unnamed: 32  \n",
            "0                    0.11890          NaN  \n",
            "3                    0.17300          NaN  \n",
            "78                   0.09964          NaN  \n",
            "108                  0.09789          NaN  \n",
            "122                  0.08009          NaN  \n",
            "181                  0.12840          NaN  \n",
            "258                  0.10190          NaN  \n",
            "567                  0.12400          NaN  \n",
            "\n",
            "[8 rows x 33 columns]\n",
            "\n",
            "Outlier indices: [0, 3, 78, 108, 122, 181, 258, 567]\n"
          ]
        }
      ]
    }
  ]
}