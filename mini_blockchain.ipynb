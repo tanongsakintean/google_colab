{
  "nbformat": 4,
  "nbformat_minor": 0,
  "metadata": {
    "colab": {
      "provenance": [],
      "gpuType": "T4",
      "authorship_tag": "ABX9TyOp5KJvk37Cc/Y9ZzUqrddr",
      "include_colab_link": true
    },
    "kernelspec": {
      "name": "python3",
      "display_name": "Python 3"
    },
    "language_info": {
      "name": "python"
    },
    "accelerator": "GPU"
  },
  "cells": [
    {
      "cell_type": "markdown",
      "metadata": {
        "id": "view-in-github",
        "colab_type": "text"
      },
      "source": [
        "<a href=\"https://colab.research.google.com/github/tanongsakintean/google_colab/blob/main/mini_blockchain.ipynb\" target=\"_parent\"><img src=\"https://colab.research.google.com/assets/colab-badge.svg\" alt=\"Open In Colab\"/></a>"
      ]
    },
    {
      "cell_type": "code",
      "source": [
        "!pip install pycryptodome"
      ],
      "metadata": {
        "colab": {
          "base_uri": "https://localhost:8080/"
        },
        "id": "kO4W0bZqdBXO",
        "outputId": "2dd818e7-5865-4ba3-ebcc-24020f3838ce"
      },
      "execution_count": null,
      "outputs": [
        {
          "output_type": "stream",
          "name": "stdout",
          "text": [
            "Collecting pycryptodome\n",
            "  Downloading pycryptodome-3.20.0-cp35-abi3-manylinux_2_17_x86_64.manylinux2014_x86_64.whl.metadata (3.4 kB)\n",
            "Downloading pycryptodome-3.20.0-cp35-abi3-manylinux_2_17_x86_64.manylinux2014_x86_64.whl (2.1 MB)\n",
            "\u001b[2K   \u001b[90m━━━━━━━━━━━━━━━━━━━━━━━━━━━━━━━━━━━━━━━━\u001b[0m \u001b[32m2.1/2.1 MB\u001b[0m \u001b[31m29.4 MB/s\u001b[0m eta \u001b[36m0:00:00\u001b[0m\n",
            "\u001b[?25hInstalling collected packages: pycryptodome\n",
            "Successfully installed pycryptodome-3.20.0\n"
          ]
        }
      ]
    },
    {
      "cell_type": "code",
      "execution_count": null,
      "metadata": {
        "id": "RvMemjOtcxze"
      },
      "outputs": [],
      "source": [
        "import hashlib\n",
        "import binascii\n",
        "import datetime\n",
        "import collections\n",
        "import Crypto.Random\n",
        "from Crypto.Hash import SHA\n",
        "from Crypto.PublicKey import RSA\n",
        "from Crypto.Signature import PKCS1_v1_5"
      ]
    },
    {
      "cell_type": "code",
      "source": [
        "from Crypto import PublicKey\n",
        "\n",
        "\n"
      ],
      "metadata": {
        "id": "AOwbRoxhdKQ8"
      },
      "execution_count": null,
      "outputs": []
    },
    {
      "cell_type": "code",
      "source": [
        "class Client:\n",
        "  def __init__(self):\n",
        "    self.random = Crypto.Random.new().read\n",
        "    self.privatekey = RSA.generate(2048,self.random)\n",
        "    self.publicKey = self.privatekey.publickey()\n",
        "    self.sign = PKCS1_v1_5.new(self.privatekey)\n",
        "  def identity(self):\n",
        "    return binascii.hexlify(self.publicKey.exportKey(format='DER')).decode('ascii')"
      ],
      "metadata": {
        "id": "q1dZoQFmpduV"
      },
      "execution_count": null,
      "outputs": []
    },
    {
      "cell_type": "code",
      "source": [
        "\n",
        "\n",
        "class Transaction:\n",
        "  def __init__(self,sender, reciever, value):\n",
        "    self.sender = sender\n",
        "    self.reciever = reciever\n",
        "    self.value = value\n",
        "    self.time = datetime.datetime.now()\n",
        "\n",
        "  def identity(self):\n",
        "    return hashlib.sha256(str(self.to_dict()).encode()).hexdigest()\n",
        "\n",
        "  def to_dict(self):\n",
        "      if self.sender == \"Genesis\":\n",
        "        identity = \"Genesis\"\n",
        "      else:\n",
        "        # print(self.sender.identity())\n",
        "        identity = self.sender.identity()\n",
        "\n",
        "      return collections.OrderedDict({\n",
        "          'sender': identity,\n",
        "          'reciever': self.reciever.identity(),\n",
        "          'value': self.value,\n",
        "          'time': self.time\n",
        "      })\n",
        "\n",
        "\n",
        "def sign_transaction(transaction, private_key):\n",
        "  signer = PKCS1_v1_5.new(private_key)\n",
        "  h = SHA.new(str(transaction.to_dict()).encode('utf8'))\n",
        "  return binascii.hexlify(signer.sign(h)).decode('ascii')\n",
        "\n",
        "def display_transaction(transaction):\n",
        "  dict = transaction.to_dict()\n",
        "  print(f\"sender: {dict['sender']}\")\n",
        "  print(f\"reciever: {dict['reciever']}\")\n",
        "  print(f\"value: {dict['value']}\")\n",
        "  print(f\"time: {dict['time']}\")\n",
        "  print(\"\\n\")\n",
        "\n"
      ],
      "metadata": {
        "id": "6vL3MosSdOhZ"
      },
      "execution_count": null,
      "outputs": []
    },
    {
      "cell_type": "code",
      "source": [
        "\n",
        "\n",
        "class Block:\n",
        "  def __init__(self):\n",
        "    self.verified_transactions = []\n",
        "    self.previous_block_hash = \"\"\n",
        "    self.Nonce = \"\"\n",
        "    self.hash = self.calculate_hash()\n",
        "\n",
        "  def dump_blockchain(bloklist):\n",
        "    print(\"Number of blocks in the chain: \" + str(len (bloklist)))\n",
        "    for x in range (len(bloklist)):\n",
        "      block_temp = bloklist[x]\n",
        "      print(\"block # \" + str(x))\n",
        "      for transaction in block_temp.verified_transactions:\n",
        "        display_transaction(transaction)\n",
        "\n",
        "  def calculate_hash(self):\n",
        "    sha = hashlib.sha256()\n",
        "    # Check if previous_block_hash or Nonce is None. If so, set them to an empty string.\n",
        "    if self.previous_block_hash is None:\n",
        "      self.previous_block_hash = \"\"\n",
        "    if self.Nonce is None:\n",
        "      self.Nonce = \"\"\n",
        "    hash_str = self.previous_block_hash + str(self.Nonce) # Ensure Nonce is a string\n",
        "    sha.update(hash_str.encode('utf-8'))\n",
        "    return sha.hexdigest()\n",
        "\n",
        "  def mine_block(self,difficulty):\n",
        "    while self.hash[:difficulty] != '0' * difficulty:\n",
        "      self.Nonce += 1\n",
        "      self.hash = self.calculate_hash()"
      ],
      "metadata": {
        "id": "zOl7cW2vfC3e"
      },
      "execution_count": null,
      "outputs": []
    },
    {
      "cell_type": "code",
      "source": [
        "transaction_list = []\n",
        "block_list = []\n",
        "transaction_index = 0\n",
        "\n",
        "client1 = Client()\n",
        "client2 = Client()\n",
        "\n",
        "\n",
        "\n",
        "\n",
        "genesis_block = Block()\n",
        "genesis_block.previous_block_hash = None\n",
        "genesis_block.Nonce = None\n",
        "\n",
        "t0 = Transaction(\"Genesis\",client1,50)\n",
        "t0.signature = sign_transaction(t0,client1.privatekey )\n",
        "transaction_list.append(t0)\n",
        "genesis_block.verified_transactions.append(t0)\n",
        "\n",
        "digest = hash(genesis_block)\n",
        "last_hblock = digest\n",
        "genesis_block.hash = digest\n",
        "block_list.append(genesis_block)\n",
        "\n",
        "\n",
        "new_block = Block()\n",
        "new_block.previous_block_hash = None\n",
        "new_block.Nonce = None\n",
        "\n",
        "t1 = Transaction(client2,client1,100)\n",
        "t1.signature = sign_transaction(t1,client1.privatekey )\n",
        "transaction_list.append(t1)\n",
        "new_block.verified_transactions.append(t1)\n",
        "\n",
        "digest = hash(new_block)\n",
        "last_hblock = digest\n",
        "new_block.hash = digest\n",
        "block_list.append(new_block)\n",
        "\n",
        "\n",
        "\n",
        "new_block = Block()\n",
        "new_block.previous_block_hash = None\n",
        "new_block.Nonce = None\n",
        "\n",
        "t2 = Transaction(client1,client2,150)\n",
        "t2.signature = sign_transaction(t2,client2.privatekey )\n",
        "transaction_list.append(t2)\n",
        "new_block.verified_transactions.append(t2)\n",
        "\n",
        "digest = hash(new_block)\n",
        "last_hblock = digest\n",
        "new_block.hash = digest\n",
        "block_list.append(new_block)\n",
        "\n",
        "\n",
        "\n",
        "new_block = Block()\n",
        "new_block.previous_block_hash = None\n",
        "new_block.Nonce = None\n",
        "\n",
        "t3 = Transaction(client2,client1,250)\n",
        "t3.signature = sign_transaction(t3,client1.privatekey )\n",
        "transaction_list.append(t3)\n",
        "new_block.verified_transactions.append(t3)\n",
        "\n",
        "digest = hash(new_block)\n",
        "last_hblock = digest\n",
        "new_block.hash = digest\n",
        "block_list.append(new_block)\n",
        "\n",
        "\n",
        "new_block = Block()\n",
        "new_block.previous_block_hash = None\n",
        "new_block.Nonce = None\n",
        "\n",
        "t4 = Transaction(client1,client2,350)\n",
        "t4.signature = sign_transaction(t4,client1.privatekey )\n",
        "transaction_list.append(t4)\n",
        "new_block.verified_transactions.append(t4)\n",
        "\n",
        "digest = hash(new_block)\n",
        "last_hblock = digest\n",
        "new_block.hash = digest\n",
        "block_list.append(new_block)\n",
        "\n",
        "Block.dump_blockchain(block_list)\n",
        "\n"
      ],
      "metadata": {
        "colab": {
          "base_uri": "https://localhost:8080/"
        },
        "id": "9LIeK4VGhwEj",
        "outputId": "734f8878-4996-4cf1-8b9b-a60bd2ed0e5b"
      },
      "execution_count": null,
      "outputs": [
        {
          "output_type": "stream",
          "name": "stdout",
          "text": [
            "Number of blocks in the chain: 5\n",
            "block # 0\n",
            "sender: Genesis\n",
            "reciever: 30820122300d06092a864886f70d01010105000382010f003082010a0282010100aba03a9ab8e359b72212f61ebca16c00d7e68fcad3e3a6d8e7349701cc973e47ae789702e8549cf83f2d0bd0262a781eed3149bc346d066d956e5922ee66e0c82de8b873bed435a76cc94b2eccf394124213dc3ac09498374374a6a517f4411cafff77be3d2a88fdc0dfb4eed3ab391637faaee7009912e75f05cc88d38400b6a6b225c77bfd48941bcd8082d3fdbc58c76a0235ea11cc140ca45a070c899c62b086d9b0bf8e520bf7350378b62990a4aeb1452c6f4aab40a8ef19651a571515e1dca8210d2e3c24b2f39ce28efb9267036b04cae77c571f19515955af1a6aeefb592dcbb03f948b649d023bbac6008f49a0ee3aba9f9b8f640cf8bb99ffb9950203010001\n",
            "value: 50\n",
            "time: 2024-09-02 08:32:43.451535\n",
            "\n",
            "\n",
            "block # 1\n",
            "sender: 30820122300d06092a864886f70d01010105000382010f003082010a0282010100a356ebd7065058ad0f527941e6aeda9531ebb7d871461268eab390e93aadda7ef9d0ea8332c0092fa28fd9c7b8f99ea11ac6331cbf1e468f587cecad41d47e3db463cfcc7839342e51eecafb5521680d6d3a919b65fdc64e57bd72499667e183417c292c13cedb1632b1d9569f78a8f55ab230f877b11d544caa292ad51343c1adbc95beaae92f3a80fd443512f908903075941c99fd398aca16cf21cd229d4a3538615697dd1a8c3c98b085cb51cc8111065cf173abec327dbb68b6fecf33327c96a8cb9a713bc705ce2807f6af9c0b03768ac2d85c4665f690216c20009fbc02f1ef898d88f7dfaf1c8e2881a1997a9b2cf15bd14637a63640a0b72552b51b0203010001\n",
            "reciever: 30820122300d06092a864886f70d01010105000382010f003082010a0282010100aba03a9ab8e359b72212f61ebca16c00d7e68fcad3e3a6d8e7349701cc973e47ae789702e8549cf83f2d0bd0262a781eed3149bc346d066d956e5922ee66e0c82de8b873bed435a76cc94b2eccf394124213dc3ac09498374374a6a517f4411cafff77be3d2a88fdc0dfb4eed3ab391637faaee7009912e75f05cc88d38400b6a6b225c77bfd48941bcd8082d3fdbc58c76a0235ea11cc140ca45a070c899c62b086d9b0bf8e520bf7350378b62990a4aeb1452c6f4aab40a8ef19651a571515e1dca8210d2e3c24b2f39ce28efb9267036b04cae77c571f19515955af1a6aeefb592dcbb03f948b649d023bbac6008f49a0ee3aba9f9b8f640cf8bb99ffb9950203010001\n",
            "value: 100\n",
            "time: 2024-09-02 08:32:43.454060\n",
            "\n",
            "\n",
            "block # 2\n",
            "sender: 30820122300d06092a864886f70d01010105000382010f003082010a0282010100aba03a9ab8e359b72212f61ebca16c00d7e68fcad3e3a6d8e7349701cc973e47ae789702e8549cf83f2d0bd0262a781eed3149bc346d066d956e5922ee66e0c82de8b873bed435a76cc94b2eccf394124213dc3ac09498374374a6a517f4411cafff77be3d2a88fdc0dfb4eed3ab391637faaee7009912e75f05cc88d38400b6a6b225c77bfd48941bcd8082d3fdbc58c76a0235ea11cc140ca45a070c899c62b086d9b0bf8e520bf7350378b62990a4aeb1452c6f4aab40a8ef19651a571515e1dca8210d2e3c24b2f39ce28efb9267036b04cae77c571f19515955af1a6aeefb592dcbb03f948b649d023bbac6008f49a0ee3aba9f9b8f640cf8bb99ffb9950203010001\n",
            "reciever: 30820122300d06092a864886f70d01010105000382010f003082010a0282010100a356ebd7065058ad0f527941e6aeda9531ebb7d871461268eab390e93aadda7ef9d0ea8332c0092fa28fd9c7b8f99ea11ac6331cbf1e468f587cecad41d47e3db463cfcc7839342e51eecafb5521680d6d3a919b65fdc64e57bd72499667e183417c292c13cedb1632b1d9569f78a8f55ab230f877b11d544caa292ad51343c1adbc95beaae92f3a80fd443512f908903075941c99fd398aca16cf21cd229d4a3538615697dd1a8c3c98b085cb51cc8111065cf173abec327dbb68b6fecf33327c96a8cb9a713bc705ce2807f6af9c0b03768ac2d85c4665f690216c20009fbc02f1ef898d88f7dfaf1c8e2881a1997a9b2cf15bd14637a63640a0b72552b51b0203010001\n",
            "value: 150\n",
            "time: 2024-09-02 08:32:43.456742\n",
            "\n",
            "\n",
            "block # 3\n",
            "sender: 30820122300d06092a864886f70d01010105000382010f003082010a0282010100a356ebd7065058ad0f527941e6aeda9531ebb7d871461268eab390e93aadda7ef9d0ea8332c0092fa28fd9c7b8f99ea11ac6331cbf1e468f587cecad41d47e3db463cfcc7839342e51eecafb5521680d6d3a919b65fdc64e57bd72499667e183417c292c13cedb1632b1d9569f78a8f55ab230f877b11d544caa292ad51343c1adbc95beaae92f3a80fd443512f908903075941c99fd398aca16cf21cd229d4a3538615697dd1a8c3c98b085cb51cc8111065cf173abec327dbb68b6fecf33327c96a8cb9a713bc705ce2807f6af9c0b03768ac2d85c4665f690216c20009fbc02f1ef898d88f7dfaf1c8e2881a1997a9b2cf15bd14637a63640a0b72552b51b0203010001\n",
            "reciever: 30820122300d06092a864886f70d01010105000382010f003082010a0282010100aba03a9ab8e359b72212f61ebca16c00d7e68fcad3e3a6d8e7349701cc973e47ae789702e8549cf83f2d0bd0262a781eed3149bc346d066d956e5922ee66e0c82de8b873bed435a76cc94b2eccf394124213dc3ac09498374374a6a517f4411cafff77be3d2a88fdc0dfb4eed3ab391637faaee7009912e75f05cc88d38400b6a6b225c77bfd48941bcd8082d3fdbc58c76a0235ea11cc140ca45a070c899c62b086d9b0bf8e520bf7350378b62990a4aeb1452c6f4aab40a8ef19651a571515e1dca8210d2e3c24b2f39ce28efb9267036b04cae77c571f19515955af1a6aeefb592dcbb03f948b649d023bbac6008f49a0ee3aba9f9b8f640cf8bb99ffb9950203010001\n",
            "value: 250\n",
            "time: 2024-09-02 08:32:43.459348\n",
            "\n",
            "\n",
            "block # 4\n",
            "sender: 30820122300d06092a864886f70d01010105000382010f003082010a0282010100aba03a9ab8e359b72212f61ebca16c00d7e68fcad3e3a6d8e7349701cc973e47ae789702e8549cf83f2d0bd0262a781eed3149bc346d066d956e5922ee66e0c82de8b873bed435a76cc94b2eccf394124213dc3ac09498374374a6a517f4411cafff77be3d2a88fdc0dfb4eed3ab391637faaee7009912e75f05cc88d38400b6a6b225c77bfd48941bcd8082d3fdbc58c76a0235ea11cc140ca45a070c899c62b086d9b0bf8e520bf7350378b62990a4aeb1452c6f4aab40a8ef19651a571515e1dca8210d2e3c24b2f39ce28efb9267036b04cae77c571f19515955af1a6aeefb592dcbb03f948b649d023bbac6008f49a0ee3aba9f9b8f640cf8bb99ffb9950203010001\n",
            "reciever: 30820122300d06092a864886f70d01010105000382010f003082010a0282010100a356ebd7065058ad0f527941e6aeda9531ebb7d871461268eab390e93aadda7ef9d0ea8332c0092fa28fd9c7b8f99ea11ac6331cbf1e468f587cecad41d47e3db463cfcc7839342e51eecafb5521680d6d3a919b65fdc64e57bd72499667e183417c292c13cedb1632b1d9569f78a8f55ab230f877b11d544caa292ad51343c1adbc95beaae92f3a80fd443512f908903075941c99fd398aca16cf21cd229d4a3538615697dd1a8c3c98b085cb51cc8111065cf173abec327dbb68b6fecf33327c96a8cb9a713bc705ce2807f6af9c0b03768ac2d85c4665f690216c20009fbc02f1ef898d88f7dfaf1c8e2881a1997a9b2cf15bd14637a63640a0b72552b51b0203010001\n",
            "value: 350\n",
            "time: 2024-09-02 08:32:43.461950\n",
            "\n",
            "\n"
          ]
        }
      ]
    }
  ]
}