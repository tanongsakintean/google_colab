{
  "nbformat": 4,
  "nbformat_minor": 0,
  "metadata": {
    "colab": {
      "provenance": [],
      "authorship_tag": "ABX9TyOFGrdam+jO2w5HbNcsZYpE",
      "include_colab_link": true
    },
    "kernelspec": {
      "name": "python3",
      "display_name": "Python 3"
    },
    "language_info": {
      "name": "python"
    }
  },
  "cells": [
    {
      "cell_type": "markdown",
      "metadata": {
        "id": "view-in-github",
        "colab_type": "text"
      },
      "source": [
        "<a href=\"https://colab.research.google.com/github/tanongsakintean/google_colab/blob/main/pyarrowTanongsakIntean.ipynb\" target=\"_parent\"><img src=\"https://colab.research.google.com/assets/colab-badge.svg\" alt=\"Open In Colab\"/></a>"
      ]
    },
    {
      "cell_type": "code",
      "execution_count": null,
      "metadata": {
        "id": "GiDXHaKLrFOl"
      },
      "outputs": [],
      "source": [
        "import numpy as np\n",
        "import pandas as pd\n",
        "import pyarrow as pa\n",
        "import pyarrow.parquet as pq\n",
        "import pyarrow.dataset as ds\n",
        "import pyarrow.compute as pc"
      ]
    },
    {
      "cell_type": "code",
      "source": [
        "from google.colab import drive\n",
        "drive.mount('/content/drive') #ระวังเครื่องหมาย ‘ กับ ' ต่างกันนะคะ"
      ],
      "metadata": {
        "id": "3feWZw3PrHfD"
      },
      "execution_count": null,
      "outputs": []
    },
    {
      "cell_type": "code",
      "source": [
        "import pandas as pd\n",
        "path = '/content/drive/MyDrive/Colab Notebooks/dataset/people-2000000.csv'\n",
        "dfp = pd.read_csv(path) ## Dataset is now stored in a Pandas Dataframe\n",
        "dfp"
      ],
      "metadata": {
        "id": "MFunDGjbrJQT"
      },
      "execution_count": null,
      "outputs": []
    },
    {
      "cell_type": "markdown",
      "source": [],
      "metadata": {
        "id": "7OfWNnqbrZ_H"
      }
    },
    {
      "cell_type": "markdown",
      "source": [
        "1.  สร้าง partition  file  เลือก   Index ชื่อ นามสกุล เพศ วันเดือนปีเกิด และ งานที่ทำ  โดยกรองในส่วนของ Job Title เป้นหลัก\n"
      ],
      "metadata": {
        "id": "WI7eowRrreNb"
      }
    },
    {
      "cell_type": "code",
      "source": [
        "# Save the table to a Parquet file\n",
        "\n",
        "dfp.to_parquet('sample.parquet', index=False) # save to parquet format\n",
        "# Load the table from the Parquet file\n",
        "table2 = pq.read_table('sample.parquet')\n",
        "table2"
      ],
      "metadata": {
        "id": "tVkVpknDre7x"
      },
      "execution_count": null,
      "outputs": []
    },
    {
      "cell_type": "code",
      "source": [
        "# write to multiple partitioned files\n",
        "pq.write_to_dataset(table2.select([\"Index\", \"First Name\",\"Last Name\",\"Sex\",\"Job Title\"]), root_path='my_parq', partition_cols=['Job Title'])"
      ],
      "metadata": {
        "id": "hJJT02hhsrf3"
      },
      "execution_count": null,
      "outputs": []
    },
    {
      "cell_type": "code",
      "source": [
        "table3 = pq.read_table('my_parq')\n",
        "table3.to_pandas()"
      ],
      "metadata": {
        "id": "k62R2hRMwoVw"
      },
      "execution_count": null,
      "outputs": []
    },
    {
      "cell_type": "markdown",
      "source": [
        "2.ให้ตรวจสอบตำแหน่งงานที่มีในรายการว่ามีทั้งหมดกี่ตำแหน่งงาน แต่ละตำแหน่งงานมีจำนวนกี่คน"
      ],
      "metadata": {
        "id": "-ssN_cngxLOj"
      }
    },
    {
      "cell_type": "code",
      "source": [
        "grouped_table = table3.group_by(\"Job Title\").aggregate(\n",
        "  [(\"Index\",\n",
        "  \"count\",  #count #max #min\n",
        "\n",
        "  pc.CountOptions(mode=\"only_valid\"))] # เอาเฉพาะที่มีข้อมูลนะ\n",
        ")\n",
        "# group by country โดย หา sum ของ Number of employees.\n",
        "grouped_table.to_pandas()\n",
        "\n"
      ],
      "metadata": {
        "id": "Wu2aFQlnxN_p"
      },
      "execution_count": null,
      "outputs": []
    },
    {
      "cell_type": "markdown",
      "source": [
        "3.กรองข้อมูลโดยแสดงเฉพาะข้อมูลของคนที่เป็นเพศชายและมีตำแหน่งเป็น \"Writer\" เท่านั้น"
      ],
      "metadata": {
        "id": "7L1XUoA0y4Jx"
      }
    },
    {
      "cell_type": "code",
      "source": [
        "expr1 = pc.field(\"Sex\") == \"Male\""
      ],
      "metadata": {
        "id": "FePLbXnIzH3e"
      },
      "execution_count": null,
      "outputs": []
    },
    {
      "cell_type": "code",
      "source": [
        "expr2 = pc.field(\"Job Title\") == \"Writer\""
      ],
      "metadata": {
        "id": "Hg7RRFy-zOwo"
      },
      "execution_count": null,
      "outputs": []
    },
    {
      "cell_type": "code",
      "source": [
        "filtered_df = table3.filter(expr1 & expr2)"
      ],
      "metadata": {
        "id": "Uit4aPQi1cFZ"
      },
      "execution_count": null,
      "outputs": []
    },
    {
      "cell_type": "code",
      "source": [
        "filtered_df.to_pandas()"
      ],
      "metadata": {
        "id": "goM3CltD0IJQ"
      },
      "execution_count": null,
      "outputs": []
    },
    {
      "cell_type": "code",
      "source": [
        "table3"
      ],
      "metadata": {
        "id": "oOGygBRL2HX_"
      },
      "execution_count": null,
      "outputs": []
    }
  ]
}